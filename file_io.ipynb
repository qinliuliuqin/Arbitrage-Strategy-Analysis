{
 "cells": [
  {
   "cell_type": "code",
   "execution_count": 19,
   "source": [
    "from file_helper import load_data\n",
    "\n",
    "pkl_folder = '/mnt/projects/COMP755/data.pkl'\n",
    "data = load_data(pkl_folder)\n",
    "\n",
    "print('Journal list: ', data.keys())\n",
    "print('Years: ', data['RFS'].keys())\n",
    "print('Months: ', data['RFS']['2020'].keys())\n",
    "print('# Papers for month Oct: ', len(data['RFS']['2019']['10']))\n",
    "print('# Lines for the first paper: ', len(data['RFS']['2019']['10'][0]))"
   ],
   "outputs": [
    {
     "output_type": "stream",
     "name": "stdout",
     "text": [
      "Journal list:  dict_keys(['RFS', 'JOF', 'JFE'])\n",
      "Years:  dict_keys(['1995', '1996', '1997', '1998', '1999', '2000', '2001', '2002', '2003', '2004', '2005', '2006', '2007', '2008', '2009', '2010', '2011', '2012', '2013', '2014', '2015', '2016', '2017', '2018', '2019', '2020'])\n",
      "Months:  dict_keys(['01', '02', '03', '04', '05', '06', '07', '08', '09', '10', '11', '12'])\n",
      "# Papers for this month:  10\n",
      "# Paper content:  125165\n"
     ]
    }
   ],
   "metadata": {}
  }
 ],
 "metadata": {
  "orig_nbformat": 4,
  "language_info": {
   "name": "python",
   "version": "3.7.4",
   "mimetype": "text/x-python",
   "codemirror_mode": {
    "name": "ipython",
    "version": 3
   },
   "pygments_lexer": "ipython3",
   "nbconvert_exporter": "python",
   "file_extension": ".py"
  },
  "kernelspec": {
   "name": "python3",
   "display_name": "Python 3.7.4 64-bit ('base': conda)"
  },
  "interpreter": {
   "hash": "1df0a946718a589e53922a37bec2c6eeefc806af2468bf27d37b5ce931037996"
  }
 },
 "nbformat": 4,
 "nbformat_minor": 2
}