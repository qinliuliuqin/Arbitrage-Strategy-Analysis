{
 "cells": [
  {
   "cell_type": "code",
   "execution_count": null,
   "source": [
    "from file_helper import load_data\n",
    "\n",
    "pkl_folder = '/mnt/projects/COMP755/data.pkl'\n",
    "data = load_data(pkl_folder)\n",
    "\n",
    "print('Journal list: ', data.keys())\n",
    "print('Years: ', data['RFS'].keys())\n",
    "print('Months: ', data['RFS']['2020'].keys())\n",
    "print('# Papers for this month: ', len(data['RFS']['2019']['10']))\n",
    "print('# Paper content: ', len(data['RFS']['2019']['10'][0]))"
   ],
   "outputs": [],
   "metadata": {}
  }
 ],
 "metadata": {
  "orig_nbformat": 4,
  "language_info": {
   "name": "python",
   "version": "3.7.4",
   "mimetype": "text/x-python",
   "codemirror_mode": {
    "name": "ipython",
    "version": 3
   },
   "pygments_lexer": "ipython3",
   "nbconvert_exporter": "python",
   "file_extension": ".py"
  },
  "kernelspec": {
   "name": "python3",
   "display_name": "Python 3.7.4 64-bit ('base': conda)"
  },
  "interpreter": {
   "hash": "1df0a946718a589e53922a37bec2c6eeefc806af2468bf27d37b5ce931037996"
  }
 },
 "nbformat": 4,
 "nbformat_minor": 2
}